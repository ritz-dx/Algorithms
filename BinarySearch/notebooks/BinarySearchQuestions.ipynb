{
 "cells": [
  {
   "cell_type": "markdown",
   "id": "952fd994",
   "metadata": {},
   "source": [
    "<div style=\"background: linear-gradient(90deg, #f8fafc 60%, #a5b4fc 100%); border-radius: 12px; border: 1px solid #818cf8; padding: 24px; margin-bottom: 18px; box-shadow: 0 2px 12px #a5b4fc;\">\n",
    "<h1 style=\"color: #3730a3; margin-top: 0;\">Binary Search LeetCode Practice Notebook</h1>\n",
    "<p style=\"color: #312e81; font-size: 1.15em;\">\n",
    "This interactive Jupyter notebook contains a curated set of popular LeetCode problems focused on <b>Binary Search</b> and its applications. <b>All question numbers correspond to their official LeetCode problem numbers</b> for easy cross-referencing. Each problem includes:\n",
    "<ul style=\"color: #6366f1;\">\n",
    "  <li><b>Colorful, engaging problem descriptions</b> for easy reading</li>\n",
    "  <li><b>Well-documented, PEP 8-compliant Python solutions</b></li>\n",
    "  <li><b>Visual explanations and images</b> to aid understanding</li>\n",
    "  <li><b>Step-by-step breakdowns</b> of the binary search approach</li>\n",
    "</ul>\n",
    "</p>\n",
    "<p style=\"color: #3730a3; font-size: 1.05em;\">\n",
    "<b>How to use this notebook:</b>\n",
    "<ul style=\"color: #818cf8;\">\n",
    "  <li>Read each problem statement and review the provided examples.</li>\n",
    "  <li>Study the code solution and the visual explanation below each answer.</li>\n",
    "  <li>Run the code cells to see outputs and experiment with your own test cases.</li>\n",
    "  <li>Use this notebook as a reference for interviews or to strengthen your binary search skills.</li>\n",
    "</ul>\n",
    "</p>\n",
    "<p style=\"color: #6366f1; font-size: 1em;\">Created by <b>ritz-dx</b> | Last updated: July 14, 2025</p>\n",
    "</div>"
   ]
  },
  {
   "cell_type": "markdown",
   "id": "560b6b71",
   "metadata": {},
   "source": [
    "### LeetCode Practice Questions"
   ]
  },
  {
   "cell_type": "markdown",
   "id": "b0de8daf-d8e3-4574-8475-be04dbaa42f6",
   "metadata": {
    "tags": [
     "704. Binary Search"
    ]
   },
   "source": [
    "<div style=\"background: linear-gradient(90deg, #f8fafc 60%, #e0e7ff 100%); border-radius: 10px; border: 1px solid #a5b4fc; padding: 18px; margin-bottom: 10px; box-shadow: 0 2px 8px #e0e7ff;\">\n",
    "\n",
    "<h3 style=\"color: #4f46e5; margin-top: 0;\">704. Binary Search</h3>\n",
    "\n",
    "<p style=\"color: #334155; font-size: 1.1em;\">Given an array of integers <b>nums</b> which is sorted in ascending order, and an integer <b>target</b>, write a function to search <b>target</b> in <b>nums</b>.<br>\n",
    "If <b>target</b> exists, then return its index. Otherwise, return <b>-1</b>.<br>\n",
    "You must write an algorithm with <b>O(log n)</b> runtime complexity.</p>\n",
    "\n",
    "<div style=\"background: #f1f5f9; border-left: 4px solid #818cf8; padding: 10px; margin: 10px 0;\">\n",
    "<b>Example 1:</b><br>\n",
    "<span style=\"color: #0ea5e9;\">Input:</span> nums = [-1,0,3,5,9,12], target = 9<br>\n",
    "<span style=\"color: #22c55e;\">Output:</span> 4<br>\n",
    "<span style=\"color: #64748b;\">Explanation:</span> 9 exists in nums and its index is 4\n",
    "</div>\n",
    "<div style=\"background: #f1f5f9; border-left: 4px solid #818cf8; padding: 10px; margin: 10px 0;\">\n",
    "<b>Example 2:</b><br>\n",
    "<span style=\"color: #0ea5e9;\">Input:</span> nums = [-1,0,3,5,9,12], target = 2<br>\n",
    "<span style=\"color: #22c55e;\">Output:</span> -1<br>\n",
    "<span style=\"color: #64748b;\">Explanation:</span> 2 does not exist in nums so return -1\n",
    "</div>\n",
    "</div>"
   ]
  },
  {
   "cell_type": "code",
   "execution_count": 12,
   "id": "86f3cd88",
   "metadata": {},
   "outputs": [
    {
     "name": "stdout",
     "output_type": "stream",
     "text": [
      "4\n",
      "-1\n"
     ]
    }
   ],
   "source": [
    "def search(nums: list[int], target: int) -> int:\n",
    "    \"\"\"\n",
    "    Binary search for target in sorted list nums.\n",
    "    Returns index if found, else -1.\n",
    "    \"\"\"\n",
    "    left, right = 0, len(nums) - 1\n",
    "    while left <= right:\n",
    "        mid = (left + right) // 2\n",
    "        if nums[mid] < target:\n",
    "            left = mid + 1\n",
    "        elif nums[mid] > target:\n",
    "            right = mid - 1\n",
    "        else:\n",
    "            return mid\n",
    "    return -1\n",
    "\n",
    "print(search([-1, 0, 3, 5, 9, 12], 9))\n",
    "print(search([-1, 0, 3, 5, 9, 12], 2))"
   ]
  },
  {
   "cell_type": "markdown",
   "id": "3e229062",
   "metadata": {},
   "source": [
    "<div style=\"background: linear-gradient(90deg, #e0e7ff 60%, #f8fafc 100%); border-radius: 10px; border: 1px solid #a5b4fc; padding: 18px; margin-bottom: 10px; box-shadow: 0 2px 8px #e0e7ff;\">\n",
    "<img src=\"https://upload.wikimedia.org/wikipedia/commons/8/83/Binary_Search_Depiction.png\" alt=\"Binary Search Visualization\" style=\"width: 220px; float: right; margin-left: 18px; border-radius: 8px; border: 1px solid #818cf8;\">\n",
    "<h4 style=\"color: #4f46e5; margin-top: 0;\">Answer: Binary Search Implementation</h4>\n",
    "<p style=\"color: #334155; font-size: 1.05em;\">This function efficiently finds the index of a target value in a sorted array using the classic binary search algorithm. The search space is halved at each step, ensuring <b>O(log n)</b> time complexity.</p>\n",
    "<ul style=\"color: #6366f1;\">\n",
    "  <li>Initialize <b>left</b> and <b>right</b> pointers.</li>\n",
    "  <li>While <b>left</b> ≤ <b>right</b>, check the <b>mid</b> element.</li>\n",
    "  <li>If <b>nums[mid]</b> equals <b>target</b>, return <b>mid</b>.</li>\n",
    "  <li>Otherwise, adjust the search range accordingly.</li>\n",
    "</ul>\n",
    "</div>"
   ]
  },
  {
   "cell_type": "markdown",
   "id": "c0842501",
   "metadata": {},
   "source": [
    "<hr style=\"border: 0; height: 3px; background: linear-gradient(90deg, #a5b4fc 0%, #f8fafc 100%); margin: 32px 0; border-radius: 2px;\">"
   ]
  },
  {
   "cell_type": "markdown",
   "id": "28a368d8",
   "metadata": {
    "tags": [
     "35. Search Insert Position"
    ]
   },
   "source": [
    "<div style=\"background: linear-gradient(90deg, #f8fafc 60%, #fcd34d 100%); border-radius: 10px; border: 1px solid #fde68a; padding: 18px; margin-bottom: 10px; box-shadow: 0 2px 8px #fde68a;\">\n",
    "\n",
    "<h3 style=\"color: #b45309; margin-top: 0;\">35. Search Insert Position</h3>\n",
    "\n",
    "<p style=\"color: #92400e; font-size: 1.1em;\">Given a sorted array of distinct integers and a target value, return the index if the target is found. If not, return the index where it would be if it were inserted in order.<br>\n",
    "You must write an algorithm with <b>O(log n)</b> runtime complexity.</p>\n",
    "\n",
    "<div style=\"background: #fef9c3; border-left: 4px solid #fbbf24; padding: 10px; margin: 10px 0;\">\n",
    "<b>Example 1:</b><br>\n",
    "<span style=\"color: #0ea5e9;\">Input:</span> nums = [1,3,5,6], target = 5<br>\n",
    "<span style=\"color: #22c55e;\">Output:</span> 2\n",
    "</div>\n",
    "<div style=\"background: #fef9c3; border-left: 4px solid #fbbf24; padding: 10px; margin: 10px 0;\">\n",
    "<b>Example 2:</b><br>\n",
    "<span style=\"color: #0ea5e9;\">Input:</span> nums = [1,3,5,6], target = 2<br>\n",
    "<span style=\"color: #22c55e;\">Output:</span> 1\n",
    "</div>\n",
    "<div style=\"background: #fef9c3; border-left: 4px solid #fbbf24; padding: 10px; margin: 10px 0;\">\n",
    "<b>Example 3:</b><br>\n",
    "<span style=\"color: #0ea5e9;\">Input:</span> nums = [1,3,5,6], target = 7<br>\n",
    "<span style=\"color: #22c55e;\">Output:</span> 4\n",
    "</div>\n",
    "</div>"
   ]
  },
  {
   "cell_type": "code",
   "execution_count": 13,
   "id": "6e16aaef",
   "metadata": {},
   "outputs": [
    {
     "name": "stdout",
     "output_type": "stream",
     "text": [
      "2\n",
      "1\n",
      "4\n"
     ]
    }
   ],
   "source": [
    "def search_insert(nums: list[int], target: int) -> int:\n",
    "    \"\"\"\n",
    "    Returns the index if target is found in nums, else the index where it should be inserted.\n",
    "    \"\"\"\n",
    "    left, right = 0, len(nums) - 1\n",
    "    while left <= right:\n",
    "        mid = (left + right) // 2\n",
    "        if nums[mid] < target:\n",
    "            left = mid + 1\n",
    "        elif nums[mid] > target:\n",
    "            right = mid - 1\n",
    "        else:\n",
    "            return mid\n",
    "    return left\n",
    "\n",
    "print(search_insert([1, 3, 5, 6], 5))\n",
    "print(search_insert([1, 3, 5, 6], 2))\n",
    "print(search_insert([1, 3, 5, 6], 7))"
   ]
  },
  {
   "cell_type": "markdown",
   "id": "80a7407b",
   "metadata": {},
   "source": [
    "<div style=\"background: linear-gradient(90deg, #fcd34d 60%, #f8fafc 100%); border-radius: 10px; border: 1px solid #fde68a; padding: 18px; margin-bottom: 10px; box-shadow: 0 2px 8px #fde68a;\">\n",
    "<img src=\"https://leetcode.com/static/images/solutions/35/35_search_insert_position.png\" alt=\"Search Insert Position Visualization\" style=\"width: 220px; float: right; margin-left: 18px; border-radius: 8px; border: 1px solid #fbbf24;\">\n",
    "<h4 style=\"color: #b45309; margin-top: 0;\">Answer: Search Insert Position</h4>\n",
    "<p style=\"color: #92400e; font-size: 1.05em;\">This function finds the index where a target value should be inserted in a sorted array. If the target exists, its index is returned; otherwise, the correct insertion point is found using binary search.</p>\n",
    "<ul style=\"color: #b45309;\">\n",
    "  <li>Use binary search to locate the target or insertion point.</li>\n",
    "  <li>Return the index if found, or the left pointer as the insertion index.</li>\n",
    "</ul>\n",
    "</div>"
   ]
  },
  {
   "cell_type": "markdown",
   "id": "a6bbe0ab",
   "metadata": {},
   "source": [
    "<hr style=\"border: 0; height: 3px; background: linear-gradient(90deg, #fde68a 0%, #f8fafc 100%); margin: 32px 0; border-radius: 2px;\">"
   ]
  },
  {
   "cell_type": "markdown",
   "id": "f27f485c",
   "metadata": {
    "tags": [
     "744. Find Smallest Letter Greater Than Target"
    ]
   },
   "source": [
    "<div style=\"background: linear-gradient(90deg, #f8fafc 60%, #fca5a5 100%); border-radius: 10px; border: 1px solid #fca5a5; padding: 18px; margin-bottom: 10px; box-shadow: 0 2px 8px #fca5a5;\">\n",
    "\n",
    "<h3 style=\"color: #b91c1c; margin-top: 0;\">744. Find Smallest Letter Greater Than Target</h3>\n",
    "\n",
    "<p style=\"color: #7f1d1d; font-size: 1.1em;\">You are given an array of characters <b>letters</b> that is sorted in non-decreasing order, and a character <b>target</b>. There are at least two different characters in <b>letters</b>.<br>\n",
    "Return the smallest character in <b>letters</b> that is lexicographically greater than <b>target</b>. If such a character does not exist, return the first character in <b>letters</b>.</p>\n",
    "\n",
    "<div style=\"background: #fee2e2; border-left: 4px solid #ef4444; padding: 10px; margin: 10px 0;\">\n",
    "<b>Example 1:</b><br>\n",
    "<span style=\"color: #0ea5e9;\">Input:</span> letters = [\"c\",\"f\",\"j\"], target = \"a\"<br>\n",
    "<span style=\"color: #22c55e;\">Output:</span> \"c\"<br>\n",
    "<span style=\"color: #64748b;\">Explanation:</span> The smallest character that is lexicographically greater than 'a' in letters is 'c'.\n",
    "</div>\n",
    "<div style=\"background: #fee2e2; border-left: 4px solid #ef4444; padding: 10px; margin: 10px 0;\">\n",
    "<b>Example 2:</b><br>\n",
    "<span style=\"color: #0ea5e9;\">Input:</span> letters = [\"c\",\"f\",\"j\"], target = \"c\"<br>\n",
    "<span style=\"color: #22c55e;\">Output:</span> \"f\"<br>\n",
    "<span style=\"color: #64748b;\">Explanation:</span> The smallest character that is lexicographically greater than 'c' in letters is 'f'.\n",
    "</div>\n",
    "<div style=\"background: #fee2e2; border-left: 4px solid #ef4444; padding: 10px; margin: 10px 0;\">\n",
    "<b>Example 3:</b><br>\n",
    "<span style=\"color: #0ea5e9;\">Input:</span> letters = [\"x\",\"x\",\"y\",\"y\"], target = \"z\"<br>\n",
    "<span style=\"color: #22c55e;\">Output:</span> \"x\"<br>\n",
    "<span style=\"color: #64748b;\">Explanation:</span> There are no characters in letters that is lexicographically greater than 'z' so we return letters[0].\n",
    "</div>\n",
    "</div>"
   ]
  },
  {
   "cell_type": "code",
   "execution_count": 14,
   "id": "06d9327a",
   "metadata": {},
   "outputs": [
    {
     "name": "stdout",
     "output_type": "stream",
     "text": [
      "c\n",
      "f\n",
      "x\n"
     ]
    }
   ],
   "source": [
    "def next_greatest_letter(letters: list[str], target: str) -> str:\n",
    "    \"\"\"\n",
    "    Returns the smallest character in letters that is lexicographically greater than target.\n",
    "    If not found, returns the first character in letters.\n",
    "    \"\"\"\n",
    "    left, right = 0, len(letters) - 1\n",
    "    while left <= right:\n",
    "        mid = (left + right) // 2\n",
    "        if letters[mid] <= target:\n",
    "            left = mid + 1\n",
    "        else:\n",
    "            right = mid - 1\n",
    "    return letters[left % len(letters)]\n",
    "\n",
    "print(next_greatest_letter([\"c\", \"f\", \"j\"], \"a\"))\n",
    "print(next_greatest_letter([\"c\", \"f\", \"j\"], \"c\"))\n",
    "print(next_greatest_letter([\"x\", \"x\", \"y\", \"y\"], \"z\"))"
   ]
  },
  {
   "cell_type": "markdown",
   "id": "d7974363",
   "metadata": {},
   "source": [
    "<div style=\"background: linear-gradient(90deg, #fca5a5 60%, #f8fafc 100%); border-radius: 10px; border: 1px solid #fca5a5; padding: 18px; margin-bottom: 10px; box-shadow: 0 2px 8px #fca5a5;\">\n",
    "<img src=\"https://assets.leetcode.com/uploads/2021/05/06/next-greatest-letter.png\" alt=\"Next Greatest Letter Visualization\" style=\"width: 220px; float: right; margin-left: 18px; border-radius: 8px; border: 1px solid #ef4444;\">\n",
    "<h4 style=\"color: #b91c1c; margin-top: 0;\">Answer: Find Smallest Letter Greater Than Target</h4>\n",
    "<p style=\"color: #7f1d1d; font-size: 1.05em;\">This function returns the smallest character in the array that is lexicographically greater than the target. If no such character exists, it wraps around and returns the first character.</p>\n",
    "<ul style=\"color: #b91c1c;\">\n",
    "  <li>Uses binary search to efficiently find the answer.</li>\n",
    "  <li>Handles wrap-around by using modulo operation.</li>\n",
    "</ul>\n",
    "</div>"
   ]
  },
  {
   "cell_type": "markdown",
   "id": "d388885a",
   "metadata": {},
   "source": [
    "<hr style=\"border: 0; height: 3px; background: linear-gradient(90deg, #fca5a5 0%, #f8fafc 100%); margin: 32px 0; border-radius: 2px;\">"
   ]
  },
  {
   "cell_type": "markdown",
   "id": "190204fd",
   "metadata": {
    "tags": [
     "1351. Count Negative Numbers in a Sorted Matrix"
    ]
   },
   "source": [
    "<div style=\"background: linear-gradient(90deg, #f8fafc 60%, #6ee7b7 100%); border-radius: 10px; border: 1px solid #6ee7b7; padding: 18px; margin-bottom: 10px; box-shadow: 0 2px 8px #6ee7b7;\">\n",
    "\n",
    "<h3 style=\"color: #047857; margin-top: 0;\">1351. Count Negative Numbers in a Sorted Matrix</h3>\n",
    "\n",
    "<p style=\"color: #065f46; font-size: 1.1em;\">Given a <b>m x n</b> matrix <b>grid</b> which is sorted in non-increasing order both row-wise and column-wise, return the number of negative numbers in <b>grid</b>.</p>\n",
    "\n",
    "<div style=\"background: #d1fae5; border-left: 4px solid #10b981; padding: 10px; margin: 10px 0;\">\n",
    "<b>Example 1:</b><br>\n",
    "<span style=\"color: #0ea5e9;\">Input:</span> grid = [[4,3,2,-1],[3,2,1,-1],[1,1,-1,-2],[-1,-1,-2,-3]]<br>\n",
    "<span style=\"color: #22c55e;\">Output:</span> 8<br>\n",
    "<span style=\"color: #64748b;\">Explanation:</span> There are 8 negatives number in the matrix.\n",
    "</div>\n",
    "<div style=\"background: #d1fae5; border-left: 4px solid #10b981; padding: 10px; margin: 10px 0;\">\n",
    "<b>Example 2:</b><br>\n",
    "<span style=\"color: #0ea5e9;\">Input:</span> grid = [[3,2],[1,0]]<br>\n",
    "<span style=\"color: #22c55e;\">Output:</span> 0\n",
    "</div>\n",
    "</div>"
   ]
  },
  {
   "cell_type": "code",
   "execution_count": 15,
   "id": "42795b50",
   "metadata": {},
   "outputs": [
    {
     "name": "stdout",
     "output_type": "stream",
     "text": [
      "8\n",
      "0\n"
     ]
    }
   ],
   "source": [
    "def count_negatives(grid: list[list[int]]) -> int:\n",
    "    \"\"\"\n",
    "    Counts the number of negative numbers in a sorted matrix.\n",
    "    \"\"\"\n",
    "    count = 0\n",
    "    for row in grid:\n",
    "        left, right = 0, len(row)\n",
    "        while left < right:\n",
    "            mid = (left + right) // 2\n",
    "            if row[mid] < 0:\n",
    "                right = mid\n",
    "            else:\n",
    "                left = mid + 1\n",
    "        count += len(row) - left\n",
    "    return count\n",
    "\n",
    "print(count_negatives([[4, 3, 2, -1], [3, 2, 1, -1], [1, 1, -1, -2], [-1, -1, -2, -3]]))\n",
    "print(count_negatives([[3, 2], [1, 0]]))"
   ]
  },
  {
   "cell_type": "markdown",
   "id": "4fe82e07",
   "metadata": {},
   "source": [
    "<div style=\"background: linear-gradient(90deg, #6ee7b7 60%, #f8fafc 100%); border-radius: 10px; border: 1px solid #6ee7b7; padding: 18px; margin-bottom: 10px; box-shadow: 0 2px 8px #6ee7b7;\">\n",
    "<img src=\"https://assets.leetcode.com/uploads/2020/07/10/sample_1351_matrix.png\" alt=\"Count Negative Numbers Visualization\" style=\"width: 220px; float: right; margin-left: 18px; border-radius: 8px; border: 1px solid #10b981;\">\n",
    "<h4 style=\"color: #047857; margin-top: 0;\">Answer: Count Negative Numbers in a Sorted Matrix</h4>\n",
    "<p style=\"color: #065f46; font-size: 1.05em;\">This function counts the number of negative numbers in a matrix sorted in non-increasing order both row-wise and column-wise. It uses binary search for each row to efficiently find the first negative number.</p>\n",
    "<ul style=\"color: #047857;\">\n",
    "  <li>Iterate through each row and apply binary search.</li>\n",
    "  <li>Count negatives as <b>len(row) - left</b> for each row.</li>\n",
    "</ul>\n",
    "</div>"
   ]
  },
  {
   "cell_type": "markdown",
   "id": "79559549",
   "metadata": {},
   "source": [
    "<hr style=\"border: 0; height: 3px; background: linear-gradient(90deg, #6ee7b7 0%, #f8fafc 100%); margin: 32px 0; border-radius: 2px;\">"
   ]
  },
  {
   "cell_type": "markdown",
   "id": "ff59e7e2",
   "metadata": {},
   "source": [
    "<div style=\"background: linear-gradient(90deg, #f8fafc 60%, #a5b4fc 100%); border-radius: 10px; border: 1px solid #818cf8; padding: 18px; margin-bottom: 10px; box-shadow: 0 2px 8px #a5b4fc;\">\n",
    "\n",
    "<h3 style=\"color: #3730a3; margin-top: 0;\">4. Median of Two Sorted Arrays <span style='font-size:0.8em; color:#818cf8;'>(Hard)</span></h3>\n",
    "\n",
    "<p style=\"color: #312e81; font-size: 1.1em;\">Given two sorted arrays <b>nums1</b> and <b>nums2</b> of size <b>m</b> and <b>n</b> respectively, return the median of the two sorted arrays.<br>\n",
    "The overall run time complexity should be <b>O(log (m+n))</b>.</p>\n",
    "\n",
    "<div style=\"background: #e0e7ff; border-left: 4px solid #6366f1; padding: 10px; margin: 10px 0;\">\n",
    "<b>Example 1:</b><br>\n",
    "<span style=\"color: #0ea5e9;\">Input:</span> nums1 = [1,3], nums2 = [2]<br>\n",
    "<span style=\"color: #22c55e;\">Output:</span> 2.00000<br>\n",
    "<span style=\"color: #64748b;\">Explanation:</span> merged array = [1,2,3] and median is 2.\n",
    "</div>\n",
    "<div style=\"background: #e0e7ff; border-left: 4px solid #6366f1; padding: 10px; margin: 10px 0;\">\n",
    "<b>Example 2:</b><br>\n",
    "<span style=\"color: #0ea5e9;\">Input:</span> nums1 = [1,2], nums2 = [3,4]<br>\n",
    "<span style=\"color: #22c55e;\">Output:</span> 2.50000<br>\n",
    "<span style=\"color: #64748b;\">Explanation:</span> merged array = [1,2,3,4] and median is (2 + 3) / 2 = 2.5.\n",
    "</div>\n",
    "</div>"
   ]
  },
  {
   "cell_type": "code",
   "execution_count": 16,
   "id": "e9dcb952",
   "metadata": {},
   "outputs": [
    {
     "name": "stdout",
     "output_type": "stream",
     "text": [
      "2.0\n",
      "2.5\n"
     ]
    }
   ],
   "source": [
    "def find_median_sorted_arrays(nums1: list[int], nums2: list[int]) -> float:\n",
    "    \"\"\"\n",
    "    Returns the median of two sorted arrays.\n",
    "    \"\"\"\n",
    "    merged = sorted(nums1 + nums2)\n",
    "    n = len(merged)\n",
    "    mid = n // 2\n",
    "    if n % 2 == 0:\n",
    "        return (merged[mid - 1] + merged[mid]) / 2\n",
    "    else:\n",
    "        return float(merged[mid])\n",
    "\n",
    "print(find_median_sorted_arrays([1, 3], [2]))\n",
    "print(find_median_sorted_arrays([1, 2], [3, 4]))"
   ]
  },
  {
   "cell_type": "markdown",
   "id": "d9412954",
   "metadata": {},
   "source": [
    "<div style=\"background: linear-gradient(90deg, #a5b4fc 60%, #f8fafc 100%); border-radius: 10px; border: 1px solid #818cf8; padding: 18px; margin-bottom: 10px; box-shadow: 0 2px 8px #a5b4fc;\">\n",
    "<img src=\"https://assets.leetcode.com/uploads/2021/03/12/medianarr.png\" alt=\"Median of Two Sorted Arrays Visualization\" style=\"width: 220px; float: right; margin-left: 18px; border-radius: 8px; border: 1px solid #6366f1;\">\n",
    "<h4 style=\"color: #3730a3; margin-top: 0;\">Answer: Median of Two Sorted Arrays</h4>\n",
    "<p style=\"color: #312e81; font-size: 1.05em;\">This function merges two sorted arrays and finds the median value. For even total length, it averages the two middle values; for odd, it returns the middle value directly.</p>\n",
    "<ul style=\"color: #3730a3;\">\n",
    "  <li>Merge and sort both arrays.</li>\n",
    "  <li>Calculate the median based on the total length.</li>\n",
    "</ul>\n",
    "</div>"
   ]
  },
  {
   "cell_type": "markdown",
   "id": "68d281ae",
   "metadata": {},
   "source": [
    "<hr style=\"border: 0; height: 3px; background: linear-gradient(90deg, #a5b4fc 0%, #f8fafc 100%); margin: 32px 0; border-radius: 2px;\">"
   ]
  },
  {
   "cell_type": "markdown",
   "id": "0fa6b589",
   "metadata": {},
   "source": [
    "34. Find First and Last Position of Element in Sorted Array\n",
    "\n",
    "Given an array of integers nums sorted in non-decreasing order, find the starting and ending position of a given target value.\n",
    "\n",
    "If target is not found in the array, return [-1, -1].\n",
    "\n",
    "You must write an algorithm with O(log n) runtime complexity.\n",
    "\n",
    " \n",
    "\n",
    "Example 1:\n",
    "\n",
    "Input: nums = [5,7,7,8,8,10], target = 8\n",
    "Output: [3,4]\n",
    "Example 2:\n",
    "\n",
    "Input: nums = [5,7,7,8,8,10], target = 6\n",
    "Output: [-1,-1]\n",
    "Example 3:\n",
    "\n",
    "Input: nums = [], target = 0\n",
    "Output: [-1,-1]"
   ]
  },
  {
   "cell_type": "markdown",
   "id": "1f21f3a8",
   "metadata": {},
   "source": []
  }
 ],
 "metadata": {
  "kernelspec": {
   "display_name": "Python 3",
   "language": "python",
   "name": "python3"
  },
  "language_info": {
   "codemirror_mode": {
    "name": "ipython",
    "version": 3
   },
   "file_extension": ".py",
   "mimetype": "text/x-python",
   "name": "python",
   "nbconvert_exporter": "python",
   "pygments_lexer": "ipython3",
   "version": "3.12.1"
  }
 },
 "nbformat": 4,
 "nbformat_minor": 5
}
