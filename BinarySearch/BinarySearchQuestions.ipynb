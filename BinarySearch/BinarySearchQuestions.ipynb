{
 "cells": [
  {
   "cell_type": "markdown",
   "id": "b0de8daf-d8e3-4574-8475-be04dbaa42f6",
   "metadata": {
    "tags": [
     "704. Binary Search"
    ]
   },
   "source": [
    "#### 704. Binary Search\n",
    "\n",
    "Given an array of integers nums which is sorted in ascending order, and an integer target, write a function to search target in nums. \n",
    "If target exists, then return its index. Otherwise, return -1.\n",
    "\n",
    "You must write an algorithm with O(log n) runtime complexity.\n",
    "\n",
    "\n",
    "Example 1:\n",
    "\n",
    "Input: nums = [-1,0,3,5,9,12], target = 9\n",
    "Output: 4\n",
    "Explanation: 9 exists in nums and its index is 4\n",
    "Example 2:\n",
    "\n",
    "Input: nums = [-1,0,3,5,9,12], target = 2\n",
    "Output: -1\n",
    "Explanation: 2 does not exist in nums so return -1"
   ]
  },
  {
   "cell_type": "code",
   "execution_count": 12,
   "id": "86f3cd88",
   "metadata": {},
   "outputs": [
    {
     "name": "stdout",
     "output_type": "stream",
     "text": [
      "4\n",
      "-1\n"
     ]
    }
   ],
   "source": [
    "def search(nums,target):\n",
    "    low = 0\n",
    "    high = len(nums)-1\n",
    "    \n",
    "    while low<=high:\n",
    "        mid = (low+high)//2\n",
    "        guess = nums[mid]\n",
    "        \n",
    "        if guess < target:\n",
    "            low = mid+1\n",
    "        elif guess > target:\n",
    "            high = mid-1\n",
    "        else:\n",
    "            return mid\n",
    "    return -1\n",
    "\n",
    "print(search([-1,0,3,5,9,12],9))\n",
    "print(search([-1,0,3,5,9,12],2))"
   ]
  },
  {
   "cell_type": "markdown",
   "id": "28a368d8",
   "metadata": {
    "tags": [
     "35. Search Insert Position"
    ]
   },
   "source": [
    "#### 35. Search Insert Position\n",
    "\n",
    "Given a sorted array of distinct integers and a target value, return the index if the target is found. If not, return the index where it would be if it were inserted in order.\n",
    "\n",
    "You must write an algorithm with O(log n) runtime complexity.\n",
    "\n",
    "Example 1:\n",
    "\n",
    "Input: nums = [1,3,5,6], target = 5\n",
    "Output: 2\n",
    "Example 2:\n",
    "\n",
    "Input: nums = [1,3,5,6], target = 2\n",
    "Output: 1\n",
    "Example 3:\n",
    "\n",
    "Input: nums = [1,3,5,6], target = 7\n",
    "Output: 4"
   ]
  },
  {
   "cell_type": "code",
   "execution_count": 11,
   "id": "6e16aaef",
   "metadata": {},
   "outputs": [
    {
     "name": "stdout",
     "output_type": "stream",
     "text": [
      "2\n",
      "1\n",
      "4\n"
     ]
    }
   ],
   "source": [
    "def searchInsert(nums, target):\n",
    "    low = 0\n",
    "    high = len(nums)-1\n",
    "    \n",
    "    while low<=high:\n",
    "        mid = (low+high)//2\n",
    "        guess = nums[mid]\n",
    "        \n",
    "        if guess < target:\n",
    "            low = mid+1\n",
    "        elif guess > target:\n",
    "            high = mid-1\n",
    "        else:\n",
    "            return mid\n",
    "    return low\n",
    "\n",
    "print(searchInsert([1,3,5,6],5))\n",
    "print(searchInsert([1,3,5,6],2))\n",
    "print(searchInsert([1,3,5,6],7))"
   ]
  },
  {
   "cell_type": "markdown",
   "id": "f27f485c",
   "metadata": {
    "tags": [
     "744. Find Smallest Letter Greater Than Target"
    ]
   },
   "source": [
    "#### 744. Find Smallest Letter Greater Than Target\n",
    "\n",
    "You are given an array of characters letters that is sorted in non-decreasing order, and a character target. There are at least two different characters in letters.\n",
    "\n",
    "Return the smallest character in letters that is lexicographically greater than target. If such a character does not exist, return the first character in letters.\n",
    "\n",
    " \n",
    "\n",
    "Example 1:\n",
    "\n",
    "Input: letters = [\"c\",\"f\",\"j\"], target = \"a\"\n",
    "Output: \"c\"\n",
    "Explanation: The smallest character that is lexicographically greater than 'a' in letters is 'c'.\n",
    "\n",
    "Example 2:\n",
    "\n",
    "Input: letters = [\"c\",\"f\",\"j\"], target = \"c\"\n",
    "Output: \"f\"\n",
    "Explanation: The smallest character that is lexicographically greater than 'c' in letters is 'f'.\n",
    "\n",
    "Example 3:\n",
    "\n",
    "Input: letters = [\"x\",\"x\",\"y\",\"y\"], target = \"z\"\n",
    "Output: \"x\"\n",
    "Explanation: There are no characters in letters that is lexicographically greater than 'z' so we return letters[0]."
   ]
  },
  {
   "cell_type": "code",
   "execution_count": 10,
   "id": "06d9327a",
   "metadata": {},
   "outputs": [
    {
     "name": "stdout",
     "output_type": "stream",
     "text": [
      "c\n",
      "f\n",
      "x\n"
     ]
    }
   ],
   "source": [
    "def nextGreatestLetter(letters, target):\n",
    "    letters = list(set(letters))\n",
    "    letters.sort()  \n",
    "    if target >= letters[-1] or target < letters[0]:\n",
    "        return letters[0]\n",
    "    low = 0\n",
    "    high = len(letters) -1\n",
    "    while low <=high:\n",
    "        mid = (low+high)//2\n",
    "        guess = letters[mid]\n",
    "        if guess < target:\n",
    "            low = mid+1\n",
    "        elif guess > target:\n",
    "            high = mid -1\n",
    "        else:\n",
    "            return letters[mid+1]\n",
    "    return letters[low]\n",
    "\n",
    "print(nextGreatestLetter([\"c\",\"f\",\"j\"],\"a\"))\n",
    "print(nextGreatestLetter([\"c\",\"f\",\"j\"],\"c\"))\n",
    "print(nextGreatestLetter([\"x\",\"x\",\"y\",\"y\"],\"z\"))"
   ]
  },
  {
   "cell_type": "markdown",
   "id": "190204fd",
   "metadata": {
    "tags": [
     "1351. Count Negative Numbers in a Sorted Matrix"
    ]
   },
   "source": [
    "#### 1351. Count Negative Numbers in a Sorted Matrix\n",
    "\n",
    "Given a m x n matrix grid which is sorted in non-increasing order both row-wise and column-wise, return the number of negative numbers in grid.\n",
    "\n",
    " \n",
    "\n",
    "Example 1:\n",
    "\n",
    "Input: grid = [[4,3,2,-1],[3,2,1,-1],[1,1,-1,-2],[-1,-1,-2,-3]]\n",
    "Output: 8\n",
    "Explanation: There are 8 negatives number in the matrix.\n",
    "Example 2:\n",
    "\n",
    "Input: grid = [[3,2],[1,0]]\n",
    "Output: 0"
   ]
  },
  {
   "cell_type": "code",
   "execution_count": null,
   "id": "42795b50",
   "metadata": {},
   "outputs": [
    {
     "name": "stdout",
     "output_type": "stream",
     "text": [
      "8\n",
      "0\n"
     ]
    }
   ],
   "source": [
    "def countNegatives(grid):\n",
    "    count = 0\n",
    "    for row in grid:\n",
    "        low = 0\n",
    "        high = len(row)\n",
    "        while low < high:\n",
    "            mid = (low + high) // 2\n",
    "            guess = row[mid]\n",
    "            if guess < 0:\n",
    "                high = mid\n",
    "            else:\n",
    "                low = mid + 1\n",
    "        count += len(row) - low \n",
    "    return count\n",
    "\n",
    "print(countNegatives([[4,3,2,-1],[3,2,1,-1],[1,1,-1,-2],[-1,-1,-2,-3]]))\n",
    "print(countNegatives([[3,2],[1,0]])) "
   ]
  },
  {
   "cell_type": "code",
   "execution_count": null,
   "id": "ff59e7e2",
   "metadata": {},
   "outputs": [],
   "source": []
  }
 ],
 "metadata": {
  "kernelspec": {
   "display_name": "Python 3",
   "language": "python",
   "name": "python3"
  },
  "language_info": {
   "codemirror_mode": {
    "name": "ipython",
    "version": 3
   },
   "file_extension": ".py",
   "mimetype": "text/x-python",
   "name": "python",
   "nbconvert_exporter": "python",
   "pygments_lexer": "ipython3",
   "version": "3.11.4"
  }
 },
 "nbformat": 4,
 "nbformat_minor": 5
}
