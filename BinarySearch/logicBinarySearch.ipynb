{
 "cells": [
  {
   "cell_type": "markdown",
   "id": "e0e59cf4-b2ca-4394-90da-03245e0f64f2",
   "metadata": {},
   "source": [
    "input = [5,8,10,11,15,18,19,20]\n",
    "\n",
    "The input will be sorted list always.\n",
    "Complexity = O(log N )\n",
    "\n",
    "Binary search will eliminate half of the number everytime."
   ]
  },
  {
   "cell_type": "code",
   "execution_count": null,
   "id": "f1095a9a-2afe-48fe-8a61-adf8832ad893",
   "metadata": {},
   "outputs": [],
   "source": [
    "## Binary Search basic algo\n",
    "## take low as the first index as low and high as last index \n",
    "## low = 0 (the lowest index of the array )\n",
    "## high = len(arr)-1 (the highest index of the arrar)\n",
    "## mid = (low + high)// 2\n",
    "## update your guess as value of the mid index\n",
    "## if the guess values is low compare to the target then low = mid +1 as in increase the low (left to right)\n",
    "## if the guess values is high compare to the target then high = mid -1 as in decrease the high (right to left)\n",
    "## in the last of the compare as in else part return the middle index.\n",
    "## if not then not in the list"
   ]
  },
  {
   "cell_type": "code",
   "execution_count": 35,
   "id": "b2d37c9b-985f-4874-8417-e53b61ea2367",
   "metadata": {},
   "outputs": [],
   "source": [
    "def binary_search(arr,target):\n",
    "    low = 0\n",
    "    high = len(arr) - 1\n",
    "    steps_count = 1\n",
    "    while low <= high :\n",
    "        mid = (low + high) // 2\n",
    "        guess = arr[mid]\n",
    "\n",
    "        if guess < target:\n",
    "            low = mid + 1\n",
    "            steps_count += 1\n",
    "        elif guess > target :\n",
    "            high = mid - 1\n",
    "            steps_count += 1\n",
    "\n",
    "        else:\n",
    "            return (mid,steps_count)\n",
    "    return (\"Element Not in list\",steps_count)"
   ]
  },
  {
   "cell_type": "code",
   "execution_count": 37,
   "id": "f157176c-c72d-4085-80e9-8c63c3a29a2a",
   "metadata": {},
   "outputs": [
    {
     "name": "stdout",
     "output_type": "stream",
     "text": [
      "(5, 2)\n"
     ]
    }
   ],
   "source": [
    "print(binary_search([5,8,10,11,15,18,19,20],18))"
   ]
  }
 ],
 "metadata": {
  "kernelspec": {
   "display_name": "Python 3 (ipykernel)",
   "language": "python",
   "name": "python3"
  },
  "language_info": {
   "codemirror_mode": {
    "name": "ipython",
    "version": 3
   },
   "file_extension": ".py",
   "mimetype": "text/x-python",
   "name": "python",
   "nbconvert_exporter": "python",
   "pygments_lexer": "ipython3",
   "version": "3.11.5"
  }
 },
 "nbformat": 4,
 "nbformat_minor": 5
}
